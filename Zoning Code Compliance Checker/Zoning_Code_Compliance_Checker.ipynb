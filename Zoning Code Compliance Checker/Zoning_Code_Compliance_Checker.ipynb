{
 "cells": [
  {
   "cell_type": "markdown",
   "id": "cdb61f6b",
   "metadata": {},
   "source": [
    "# Zoning Code Compliance Checker\n",
    "\n",
    "This Jupyter notebook demonstrates a reproducible workflow for checking parcel-level compliance\n",
    "with zoning regulations (FAR, BCR, setbacks, height limits) using modern Python libraries.\n"
   ]
  },
  {
   "cell_type": "code",
   "execution_count": null,
   "id": "5ee47067",
   "metadata": {},
   "outputs": [],
   "source": [
    "import geopandas as gpd\n",
    "import pandas as pd\n",
    "import json\n",
    "from shapely.validation import make_valid\n",
    "from pyproj import CRS\n",
    "\n",
    "# Helper to compute UTM CRS\n",
    "def get_utm_crs(gdf):\n",
    "    centroid = gdf.geometry.unary_union.centroid\n",
    "    lon, lat = centroid.x, centroid.y\n",
    "    utm_zone = int((lon + 180) / 6) + 1\n",
    "    return CRS.from_dict({ \"proj\": \"utm\", \"zone\": utm_zone, \"south\": lat < 0 })\n",
    "\n",
    "# Helper to clean invalid geometries\n",
    "def clean_geom(g):\n",
    "    if not g.is_valid:\n",
    "        try:\n",
    "            return make_valid(g)\n",
    "        except Exception:\n",
    "            return g.buffer(0)\n",
    "    return g\n"
   ]
  },
  {
   "cell_type": "code",
   "execution_count": null,
   "id": "64e26b68",
   "metadata": {},
   "outputs": [],
   "source": [
    "# Load parcel, building, and zoning data\n",
    "parcels = gpd.read_file(\"data/parcels.geojson\").to_crs(\"EPSG:4326\")\n",
    "buildings = gpd.read_file(\"data/buildings.geojson\").to_crs(\"EPSG:4326\")\n",
    "zoning = gpd.read_file(\"data/zoning.geojson\").to_crs(\"EPSG:4326\")\n",
    "\n",
    "# Load zoning rules\n",
    "with open(\"data/zoning_rules.json\") as f:\n",
    "    zoning_rules = json.load(f)\n"
   ]
  },
  {
   "cell_type": "code",
   "execution_count": null,
   "id": "b7e52f88",
   "metadata": {},
   "outputs": [],
   "source": [
    "# Join parcels to zoning districts\n",
    "parcels = gpd.sjoin(parcels, zoning[['zone_id', 'geometry']], how='left', predicate='intersects')\n",
    "\n",
    "# Extract building footprints per parcel\n",
    "buildings = gpd.sjoin(buildings, parcels[['parcel_id','geometry']], how='left', predicate='within')\n",
    "\n",
    "# Compute Floor Area Ratio (FAR)\n",
    "buildings['floor_area'] = buildings.geometry.area * buildings['num_floors']\n",
    "fa = buildings.groupby('parcel_id')['floor_area'].sum()\n",
    "parcels['floor_area'] = parcels['parcel_id'].map(fa)\n",
    "parcels['FAR'] = parcels['floor_area'] / parcels.geometry.area\n",
    "\n",
    "# Flag FAR violations\n",
    "parcels['FAR_violation'] = parcels.apply(lambda r: r['FAR'] > zoning_rules.get(r['zone_id'], {}).get('FAR', 0), axis=1)\n"
   ]
  },
  {
   "cell_type": "code",
   "execution_count": null,
   "id": "d5c751b3",
   "metadata": {},
   "outputs": [],
   "source": [
    "# Export violations to GeoJSON\n",
    "violations = parcels[parcels['FAR_violation']].copy()\n",
    "violations.to_file('output/far_violations.geojson', driver='GeoJSON')\n",
    "\n",
    "# Display summary\n",
    "import matplotlib.pyplot as plt\n",
    "parcels['FAR_violation'].value_counts().plot(kind='bar', title='FAR Violations')\n",
    "plt.show()\n"
   ]
  }
 ],
 "metadata": {},
 "nbformat": 4,
 "nbformat_minor": 5
}