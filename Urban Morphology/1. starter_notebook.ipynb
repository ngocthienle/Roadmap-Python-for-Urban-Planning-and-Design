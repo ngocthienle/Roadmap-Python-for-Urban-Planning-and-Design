{
 "cells": [
  {
   "cell_type": "markdown",
   "id": "4061b5cc",
   "metadata": {},
   "source": [
    "## The example for urban morphology analysis: Phu Quoc City, Vietnam\n",
    "🔧 Starter Jupyter Notebook – What It Will Include:\n",
    "### ✅ Part 1: Download and Load Spatial Data\n",
    "Use osmnx to download building footprints and street network from OpenStreetMap for Phu Quoc.\n",
    "### ✅ Part 2: Morphological Analysis\n",
    "Using momepy:\n",
    "- Compute building area, compactness, elongation\n",
    "- Analyze street orientation and entropy\n",
    "- Calculate block-level metrics (optional, if available)\n",
    "### ✅ Part 3: Visualization\n",
    "- Plot spatial distribution of indicators (e.g., choropleth)\n",
    "- Overlay on basemaps with contextily"
   ]
  },
  {
   "cell_type": "code",
   "execution_count": 11,
   "id": "665c97d0",
   "metadata": {},
   "outputs": [],
   "source": [
    "# 📦 Import required packages\n",
    "import osmnx as ox\n",
    "import geopandas as gpd\n",
    "import matplotlib.pyplot as plt\n",
    "import momepy\n",
    "import contextily as cx\n"
   ]
  },
  {
   "cell_type": "code",
   "execution_count": 12,
   "id": "e822b404",
   "metadata": {},
   "outputs": [],
   "source": [
    "# 🌍 Configure OSMnx\n",
    "ox.settings.log_console = True\n",
    "ox.settings.use_cache = True"
   ]
  },
  {
   "cell_type": "code",
   "execution_count": 13,
   "id": "9f906e62",
   "metadata": {},
   "outputs": [],
   "source": [
    "# 📍 Set up city name\n",
    "place_name = \"Phu Quoc, Kien Giang, Vietnam\""
   ]
  },
  {
   "cell_type": "code",
   "execution_count": 14,
   "id": "b423d6f3",
   "metadata": {},
   "outputs": [],
   "source": [
    "# 🌐 Download building footprints using the latest API\n",
    "tags = {\"building\": True}\n",
    "buildings = ox.features_from_place(place_name, tags=tags)"
   ]
  },
  {
   "cell_type": "code",
   "execution_count": 15,
   "id": "f0f264e9",
   "metadata": {},
   "outputs": [
    {
     "name": "stdout",
     "output_type": "stream",
     "text": [
      "                                            geometry building amenity name  \\\n",
      "0  POLYGON ((104.04679 10.0138, 104.04678 10.0138...      yes     NaN  NaN   \n",
      "1  POLYGON ((104.01706 10.02244, 104.01706 10.022...      yes     NaN  NaN   \n",
      "2  POLYGON ((104.0071 10.02835, 104.00717 10.0284...      yes     NaN  NaN   \n",
      "3  POLYGON ((104.01481 10.02717, 104.01486 10.027...      yes     NaN  NaN   \n",
      "4  POLYGON ((104.00976 10.04181, 104.00967 10.041...      yes     NaN  NaN   \n",
      "\n",
      "  opening_hours operator website addr:city addr:postcode addr:province  ...  \\\n",
      "0           NaN      NaN     NaN       NaN           NaN           NaN  ...   \n",
      "1           NaN      NaN     NaN       NaN           NaN           NaN  ...   \n",
      "2           NaN      NaN     NaN       NaN           NaN           NaN  ...   \n",
      "3           NaN      NaN     NaN       NaN           NaN           NaN  ...   \n",
      "4           NaN      NaN     NaN       NaN           NaN           NaN  ...   \n",
      "\n",
      "  tower:type check_date aerialway aerialway:access network public_transport  \\\n",
      "0        NaN        NaN       NaN              NaN     NaN              NaN   \n",
      "1        NaN        NaN       NaN              NaN     NaN              NaN   \n",
      "2        NaN        NaN       NaN              NaN     NaN              NaN   \n",
      "3        NaN        NaN       NaN              NaN     NaN              NaN   \n",
      "4        NaN        NaN       NaN              NaN     NaN              NaN   \n",
      "\n",
      "  information construction leisure          type  \n",
      "0         NaN          NaN     NaN  multipolygon  \n",
      "1         NaN          NaN     NaN  multipolygon  \n",
      "2         NaN          NaN     NaN  multipolygon  \n",
      "3         NaN          NaN     NaN  multipolygon  \n",
      "4         NaN          NaN     NaN  multipolygon  \n",
      "\n",
      "[5 rows x 92 columns]\n"
     ]
    }
   ],
   "source": [
    "# ✅ Keep only Polygon and MultiPolygon geometries\n",
    "buildings = buildings[buildings.geometry.type.isin(['Polygon', 'MultiPolygon'])].copy()\n",
    "buildings.reset_index(drop=True, inplace=True)\n",
    "\n",
    "# 📊 Preview\n",
    "print(buildings.head())"
   ]
  },
  {
   "cell_type": "code",
   "execution_count": 17,
   "id": "782e1f41",
   "metadata": {},
   "outputs": [
    {
     "name": "stdout",
     "output_type": "stream",
     "text": [
      "<class 'geopandas.geodataframe.GeoDataFrame'>\n",
      "RangeIndex: 74297 entries, 0 to 74296\n",
      "Data columns (total 92 columns):\n",
      " #   Column               Non-Null Count  Dtype   \n",
      "---  ------               --------------  -----   \n",
      " 0   geometry             74297 non-null  geometry\n",
      " 1   building             74297 non-null  object  \n",
      " 2   amenity              30 non-null     object  \n",
      " 3   name                 279 non-null    object  \n",
      " 4   opening_hours        8 non-null      object  \n",
      " 5   operator             2 non-null      object  \n",
      " 6   website              4 non-null      object  \n",
      " 7   addr:city            10 non-null     object  \n",
      " 8   addr:postcode        6 non-null      object  \n",
      " 9   addr:province        7 non-null      object  \n",
      " 10  addr:street          12 non-null     object  \n",
      " 11  brand                4 non-null      object  \n",
      " 12  brand:wikidata       10 non-null     object  \n",
      " 13  brand:wikipedia      0 non-null      object  \n",
      " 14  building:levels      338 non-null    object  \n",
      " 15  contact:facebook     1 non-null      object  \n",
      " 16  contact:instagram    0 non-null      object  \n",
      " 17  email                2 non-null      object  \n",
      " 18  internet_access      7 non-null      object  \n",
      " 19  internet_access:fee  2 non-null      object  \n",
      " 20  phone                6 non-null      object  \n",
      " 21  rooms                0 non-null      object  \n",
      " 22  stars                0 non-null      object  \n",
      " 23  tourism              16 non-null     object  \n",
      " 24  wheelchair           2 non-null      object  \n",
      " 25  government           1 non-null      object  \n",
      " 26  layer                5 non-null      object  \n",
      " 27  monitoring:weather   1 non-null      object  \n",
      " 28  alt_name             5 non-null      object  \n",
      " 29  man_made             8 non-null      object  \n",
      " 30  source               32 non-null     object  \n",
      " 31  ref                  4 non-null      object  \n",
      " 32  cuisine              8 non-null      object  \n",
      " 33  aeroway              1 non-null      object  \n",
      " 34  level                3 non-null      object  \n",
      " 35  outdoor_seating      2 non-null      object  \n",
      " 36  smoking              1 non-null      object  \n",
      " 37  addr:housenumber     12 non-null     object  \n",
      " 38  name:vi              4 non-null      object  \n",
      " 39  shop                 11 non-null     object  \n",
      " 40  addr:subdistrict     10 non-null     object  \n",
      " 41  religion             1 non-null      object  \n",
      " 42  addr:district        6 non-null      object  \n",
      " 43  air_conditioning     1 non-null      object  \n",
      " 44  diet:local           1 non-null      object  \n",
      " 45  diet:meat            1 non-null      object  \n",
      " 46  diet:vegetarian      1 non-null      object  \n",
      " 47  bar                  1 non-null      object  \n",
      " 48  payment:mastercard   1 non-null      object  \n",
      " 49  payment:visa         1 non-null      object  \n",
      " 50  payment:visa_debit   1 non-null      object  \n",
      " 51  reservation          1 non-null      object  \n",
      " 52  office               1 non-null      object  \n",
      " 53  name:en              8 non-null      object  \n",
      " 54  historic             1 non-null      object  \n",
      " 55  memorial             1 non-null      object  \n",
      " 56  height               30 non-null     object  \n",
      " 57  name:ru              2 non-null      object  \n",
      " 58  payment:cash         2 non-null      object  \n",
      " 59  payment:contactless  2 non-null      object  \n",
      " 60  payment:debit_cards  2 non-null      object  \n",
      " 61  fee                  1 non-null      object  \n",
      " 62  museum               1 non-null      object  \n",
      " 63  natural              1 non-null      object  \n",
      " 64  water                1 non-null      object  \n",
      " 65  roof:levels          1 non-null      object  \n",
      " 66  brand:website        6 non-null      object  \n",
      " 67  drive_through        2 non-null      object  \n",
      " 68  healthcare           2 non-null      object  \n",
      " 69  medical_supply       1 non-null      object  \n",
      " 70  official_name        1 non-null      object  \n",
      " 71  official_name:en     1 non-null      object  \n",
      " 72  official_name:vi     1 non-null      object  \n",
      " 73  capacity             1 non-null      object  \n",
      " 74  description          1 non-null      object  \n",
      " 75  image                1 non-null      object  \n",
      " 76  takeaway             1 non-null      object  \n",
      " 77  atm                  1 non-null      object  \n",
      " 78  atm:opening_hours    1 non-null      object  \n",
      " 79  roof:shape           1 non-null      object  \n",
      " 80  mobile               1 non-null      object  \n",
      " 81  tower:construction   1 non-null      object  \n",
      " 82  tower:type           1 non-null      object  \n",
      " 83  check_date           1 non-null      object  \n",
      " 84  aerialway            2 non-null      object  \n",
      " 85  aerialway:access     1 non-null      object  \n",
      " 86  network              2 non-null      object  \n",
      " 87  public_transport     2 non-null      object  \n",
      " 88  information          1 non-null      object  \n",
      " 89  construction         2 non-null      object  \n",
      " 90  leisure              8 non-null      object  \n",
      " 91  type                 7 non-null      object  \n",
      "dtypes: geometry(1), object(91)\n",
      "memory usage: 52.1+ MB\n"
     ]
    }
   ],
   "source": [
    "buildings.info()"
   ]
  },
  {
   "cell_type": "markdown",
   "id": "609303e7",
   "metadata": {},
   "source": [
    "### 🧠 What You Get:\n",
    "1. **Building-level morphology metrics**: area, compactness, elongation\n",
    "2. **Street orientation entropy**: insight into how regular or irregular the grid is\n",
    "3. **Basemap visualizations** to contextualize spatial patterns"
   ]
  }
 ],
 "metadata": {
  "kernelspec": {
   "display_name": "Python 3",
   "language": "python",
   "name": "python3"
  },
  "language_info": {
   "codemirror_mode": {
    "name": "ipython",
    "version": 3
   },
   "file_extension": ".py",
   "mimetype": "text/x-python",
   "name": "python",
   "nbconvert_exporter": "python",
   "pygments_lexer": "ipython3",
   "version": "3.11.12"
  }
 },
 "nbformat": 4,
 "nbformat_minor": 5
}
